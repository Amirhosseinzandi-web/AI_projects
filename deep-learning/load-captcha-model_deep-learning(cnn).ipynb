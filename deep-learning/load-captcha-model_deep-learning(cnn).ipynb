{
 "cells": [
  {
   "cell_type": "code",
   "execution_count": 1,
   "id": "2e8d3171",
   "metadata": {},
   "outputs": [],
   "source": [
    "import numpy as np\n",
    "import matplotlib.pyplot as plt\n",
    "\n",
    "import cv2\n",
    "import pickle\n",
    "\n",
    "from keras.models import load_model"
   ]
  },
  {
   "cell_type": "markdown",
   "id": "d2611f9d",
   "metadata": {},
   "source": [
    "# load encoder"
   ]
  },
  {
   "cell_type": "code",
   "execution_count": null,
   "id": "2907472e",
   "metadata": {},
   "outputs": [],
   "source": [
    "with open(\"../encoded/captcha_encoder.bin\" , \"rb\") as f:\n",
    "    encoder = pickle.load(f)"
   ]
  },
  {
   "cell_type": "markdown",
   "id": "9f7c5f5b",
   "metadata": {},
   "source": [
    "# load model"
   ]
  },
  {
   "cell_type": "code",
   "execution_count": null,
   "id": "2809e6bf",
   "metadata": {},
   "outputs": [
    {
     "name": "stderr",
     "output_type": "stream",
     "text": [
      "WARNING:absl:Compiled the loaded model, but the compiled metrics have yet to be built. `model.compile_metrics` will be empty until you train or evaluate the model.\n",
      "WARNING:absl:Compiled the loaded model, but the compiled metrics have yet to be built. `model.compile_metrics` will be empty until you train or evaluate the model.\n",
      "WARNING:absl:Compiled the loaded model, but the compiled metrics have yet to be built. `model.compile_metrics` will be empty until you train or evaluate the model.\n",
      "WARNING:absl:Compiled the loaded model, but the compiled metrics have yet to be built. `model.compile_metrics` will be empty until you train or evaluate the model.\n"
     ]
    }
   ],
   "source": [
    "model_one = load_model(\"../saved-models/captcha_model_one.h5\")\n",
    "model_two = load_model(\"../saved-models/captcha_model_two.h5\")\n",
    "model_three = load_model(\"../saved-models/captcha_model_three.h5\")\n",
    "model_four = load_model(\"../saved-models/captcha_model_four.h5\")"
   ]
  },
  {
   "cell_type": "code",
   "execution_count": 4,
   "id": "e3e48f06",
   "metadata": {},
   "outputs": [],
   "source": [
    "def predict_model(model1 , model2 , model3 , model4  , img):\n",
    "    img_array = cv2.imread(img)\n",
    "    img_array_2d = cv2.cvtColor(img_array , cv2.COLOR_BGR2GRAY)\n",
    "    img_array_2d = cv2.bitwise_not(img_array_2d)\n",
    "    img_array_2d = img_array_2d / 255.0\n",
    "\n",
    "    plt.figure(figsize=(5,5))\n",
    "    plt.imshow(img_array_2d , \"gray\")\n",
    "\n",
    "    result_one = model1.predict(img_array_2d.reshape(1 , 24 , 72 , 1))\n",
    "\n",
    "    result_two = model2.predict(img_array_2d.reshape(1 , 24 , 72 , 1))\n",
    "\n",
    "    result_three = model3.predict(img_array_2d.reshape(1 , 24 , 72 , 1))\n",
    "\n",
    "    result_four = model4.predict(img_array_2d.reshape(1 , 24 , 72 , 1))\n",
    "\n",
    "\n",
    "    char_one = encoder.inverse_transform([np.argmax(result_one)])\n",
    "    char_two = encoder.inverse_transform([np.argmax(result_two)])\n",
    "    char_three = encoder.inverse_transform([np.argmax(result_three)])\n",
    "    char_four = encoder.inverse_transform([np.argmax(result_four)])\n",
    "\n",
    "\n",
    "    result = char_one + char_two + char_three + char_four\n",
    "\n",
    "    print(result)"
   ]
  },
  {
   "cell_type": "code",
   "execution_count": null,
   "id": "b1ac97e5",
   "metadata": {},
   "outputs": [
    {
     "name": "stdout",
     "output_type": "stream",
     "text": [
      "\u001b[1m1/1\u001b[0m \u001b[32m━━━━━━━━━━━━━━━━━━━━\u001b[0m\u001b[37m\u001b[0m \u001b[1m0s\u001b[0m 384ms/step\n",
      "\u001b[1m1/1\u001b[0m \u001b[32m━━━━━━━━━━━━━━━━━━━━\u001b[0m\u001b[37m\u001b[0m \u001b[1m0s\u001b[0m 156ms/step\n",
      "\u001b[1m1/1\u001b[0m \u001b[32m━━━━━━━━━━━━━━━━━━━━\u001b[0m\u001b[37m\u001b[0m \u001b[1m0s\u001b[0m 152ms/step\n",
      "\u001b[1m1/1\u001b[0m \u001b[32m━━━━━━━━━━━━━━━━━━━━\u001b[0m\u001b[37m\u001b[0m \u001b[1m0s\u001b[0m 159ms/step\n",
      "['QX5B']\n"
     ]
    },
    {
     "data": {
      "image/png": "[encoded data removed]",
      "text/plain": [
       "<Figure size 500x500 with 1 Axes>"
      ]
     },
     "metadata": {},
     "output_type": "display_data"
    }
   ],
   "source": [
    "predict_model(model_one , model_two , model_three , model_four , \"../datasets/captcha-samples-wordpress/test/QX5B.png\")"
   ]
  },
  {
   "cell_type": "code",
   "execution_count": null,
   "id": "daf87448",
   "metadata": {},
   "outputs": [
    {
     "name": "stdout",
     "output_type": "stream",
     "text": [
      "\u001b[1m1/1\u001b[0m \u001b[32m━━━━━━━━━━━━━━━━━━━━\u001b[0m\u001b[37m\u001b[0m \u001b[1m0s\u001b[0m 60ms/step\n",
      "\u001b[1m1/1\u001b[0m \u001b[32m━━━━━━━━━━━━━━━━━━━━\u001b[0m\u001b[37m\u001b[0m \u001b[1m0s\u001b[0m 57ms/step\n",
      "\u001b[1m1/1\u001b[0m \u001b[32m━━━━━━━━━━━━━━━━━━━━\u001b[0m\u001b[37m\u001b[0m \u001b[1m0s\u001b[0m 54ms/step\n",
      "\u001b[1m1/1\u001b[0m \u001b[32m━━━━━━━━━━━━━━━━━━━━\u001b[0m\u001b[37m\u001b[0m \u001b[1m0s\u001b[0m 54ms/step\n",
      "['LUTP']\n"
     ]
    },
    {
     "data": {
      "image/png": "[encoded data removed]",
      "text/plain": [
       "<Figure size 500x500 with 1 Axes>"
      ]
     },
     "metadata": {},
     "output_type": "display_data"
    }
   ],
   "source": [
    "predict_model(model_one , model_two , model_three , model_four , \"../datasets/captcha-samples-wordpress/test/LUTP.png\")"
   ]
  },
  {
   "cell_type": "code",
   "execution_count": null,
   "id": "2d4275c7",
   "metadata": {},
   "outputs": [
    {
     "name": "stdout",
     "output_type": "stream",
     "text": [
      "\u001b[1m1/1\u001b[0m \u001b[32m━━━━━━━━━━━━━━━━━━━━\u001b[0m\u001b[37m\u001b[0m \u001b[1m0s\u001b[0m 61ms/step\n",
      "\u001b[1m1/1\u001b[0m \u001b[32m━━━━━━━━━━━━━━━━━━━━\u001b[0m\u001b[37m\u001b[0m \u001b[1m0s\u001b[0m 58ms/step\n",
      "\u001b[1m1/1\u001b[0m \u001b[32m━━━━━━━━━━━━━━━━━━━━\u001b[0m\u001b[37m\u001b[0m \u001b[1m0s\u001b[0m 63ms/step\n",
      "\u001b[1m1/1\u001b[0m \u001b[32m━━━━━━━━━━━━━━━━━━━━\u001b[0m\u001b[37m\u001b[0m \u001b[1m0s\u001b[0m 59ms/step\n",
      "['C7G3']\n"
     ]
    },
    {
     "data": {
      "image/png": "[encoded data removed]",
      "text/plain": [
       "<Figure size 500x500 with 1 Axes>"
      ]
     },
     "metadata": {},
     "output_type": "display_data"
    }
   ],
   "source": [
    "predict_model(model_one , model_two , model_three , model_four , \"../datasets/captcha-samples-wordpress/test/C7G3.png\")"
   ]
  }
 ],
 "metadata": {
  "kernelspec": {
   "display_name": ".venv312",
   "language": "python",
   "name": "python3"
  },
  "language_info": {
   "codemirror_mode": {
    "name": "ipython",
    "version": 3
   },
   "file_extension": ".py",
   "mimetype": "text/x-python",
   "name": "python",
   "nbconvert_exporter": "python",
   "pygments_lexer": "ipython3",
   "version": "3.12.4"
  }
 },
 "nbformat": 4,
 "nbformat_minor": 5
}
